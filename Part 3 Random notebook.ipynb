{
 "cells": [
  {
   "cell_type": "code",
   "execution_count": 1,
   "id": "830e20b8",
   "metadata": {},
   "outputs": [
    {
     "name": "stdout",
     "output_type": "stream",
     "text": [
      "['Mark Vande Hei', 'Pyotr Dubrov', 'Anton Shkaplerov', 'Zhai Zhigang', 'Wang Yaping', 'Ye Guangfu', 'Raja Chari', 'Tom Marshburn', 'Kayla Barron', 'Matthias Maurer', 'Alexander Misurkin', 'Yusaku Maezawa', 'Yozo Hirano']\n"
     ]
    }
   ],
   "source": [
    "# Jupyter notebook CELL 1 for exercise\n",
    "import requests\n",
    "from typing import List\n",
    "# Get the names of astronauts on board the ISS \n",
    "astros_json = requests.get('http://api.open-notify.org/astros.json').json()\n",
    "astro_names = []\n",
    "for astro_info in astros_json['people']:\n",
    "    astro_names.append(astro_info['name'])\n",
    "# Note: equivalent to astro_names = [astro_info['name'] for astro_info in astros_json['people']]\n",
    "print(astro_names)"
   ]
  },
  {
   "cell_type": "code",
   "execution_count": 2,
   "id": "a8703203",
   "metadata": {},
   "outputs": [
    {
     "name": "stdout",
     "output_type": "stream",
     "text": [
      "At 19-Dec-2021 19:43:43, the ISS was above Carnarvon in Australia\n",
      "At 19-Dec-2021 19:43:49, the ISS was above Carnarvon in Australia\n",
      "At 19-Dec-2021 19:43:54, the ISS was above Carnarvon in Australia\n"
     ]
    }
   ],
   "source": [
    "# Jupyter notebook CELL 2 for exercise\n",
    "import time\n",
    "from datetime import datetime\n",
    "import reverse_geocode\n",
    "\n",
    "n_trials = 3\n",
    "trial_pause_seconds = 5.0\n",
    "for i_trial in range(n_trials):\n",
    "    # Get date and time\n",
    "    date_time_now = datetime.now()\n",
    "    time_str = date_time_now.strftime(\"%d-%b-%Y %H:%M:%S\")\n",
    "    # ISS position\n",
    "    issnow_json = requests.get('http://api.open-notify.org/iss-now.json').json()\n",
    "    if issnow_json['message']  == 'success':\n",
    "        iss_latlong = (issnow_json['iss_position']['latitude'], \n",
    "                       issnow_json['iss_position']['longitude'])\n",
    "        # The search method expects a list and returns a list.\n",
    "        # Hence we need to coerce a single value latlong to a list with [latlong]\n",
    "        # Afterwards we need to extract the result, itself a single-item list, with result_list[0]\n",
    "        iss_pos_list = reverse_geocode.search([iss_latlong])\n",
    "        iss_pos = iss_pos_list[0]\n",
    "        iss_info = f'At {time_str}, the ISS was above {iss_pos[\"city\"]} in {iss_pos[\"country\"]}'\n",
    "        print(iss_info)\n",
    "        time.sleep(trial_pause_seconds)"
   ]
  },
  {
   "cell_type": "code",
   "execution_count": 3,
   "id": "c1a35bfe",
   "metadata": {},
   "outputs": [],
   "source": [
    "import sys"
   ]
  },
  {
   "cell_type": "code",
   "execution_count": 4,
   "id": "090848ad",
   "metadata": {},
   "outputs": [],
   "source": [
    "sys.path.append(\"/home/laurammodernell/IORDS/python-lectures/space/\")"
   ]
  },
  {
   "cell_type": "code",
   "execution_count": 5,
   "id": "b12b3aeb",
   "metadata": {},
   "outputs": [],
   "source": [
    "import iss"
   ]
  },
  {
   "cell_type": "code",
   "execution_count": 6,
   "id": "603ee4be",
   "metadata": {},
   "outputs": [
    {
     "data": {
      "text/plain": [
       "['Mark Vande Hei',\n",
       " 'Pyotr Dubrov',\n",
       " 'Anton Shkaplerov',\n",
       " 'Zhai Zhigang',\n",
       " 'Wang Yaping',\n",
       " 'Ye Guangfu',\n",
       " 'Raja Chari',\n",
       " 'Tom Marshburn',\n",
       " 'Kayla Barron',\n",
       " 'Matthias Maurer',\n",
       " 'Alexander Misurkin',\n",
       " 'Yusaku Maezawa',\n",
       " 'Yozo Hirano']"
      ]
     },
     "execution_count": 6,
     "metadata": {},
     "output_type": "execute_result"
    }
   ],
   "source": [
    "iss.get_astro_names()"
   ]
  },
  {
   "cell_type": "code",
   "execution_count": 7,
   "id": "05029ddb",
   "metadata": {},
   "outputs": [
    {
     "data": {
      "text/plain": [
       "['At 19-Dec-2021 19:45:34, the ISS was above Port Hedland in Australia',\n",
       " 'At 19-Dec-2021 19:45:36, the ISS was above Port Hedland in Australia',\n",
       " 'At 19-Dec-2021 19:45:39, the ISS was above Port Hedland in Australia',\n",
       " 'At 19-Dec-2021 19:45:41, the ISS was above Port Hedland in Australia',\n",
       " 'At 19-Dec-2021 19:45:44, the ISS was above Port Hedland in Australia',\n",
       " 'At 19-Dec-2021 19:45:46, the ISS was above Port Hedland in Australia',\n",
       " 'At 19-Dec-2021 19:45:49, the ISS was above Port Hedland in Australia',\n",
       " 'At 19-Dec-2021 19:45:51, the ISS was above Port Hedland in Australia',\n",
       " 'At 19-Dec-2021 19:45:54, the ISS was above Port Hedland in Australia',\n",
       " 'At 19-Dec-2021 19:45:56, the ISS was above Port Hedland in Australia']"
      ]
     },
     "execution_count": 7,
     "metadata": {},
     "output_type": "execute_result"
    }
   ],
   "source": [
    "iss.get_iss_positions(10, 2)"
   ]
  },
  {
   "cell_type": "code",
   "execution_count": 8,
   "id": "4b6e9514",
   "metadata": {},
   "outputs": [
    {
     "data": {
      "text/plain": [
       "<module 'iss' from '/home/laurammodernell/IORDS/python-lectures/space/iss.py'>"
      ]
     },
     "execution_count": 8,
     "metadata": {},
     "output_type": "execute_result"
    }
   ],
   "source": [
    "import importlib\n",
    "importlib.reload(iss)"
   ]
  },
  {
   "cell_type": "code",
   "execution_count": 9,
   "id": "044537eb",
   "metadata": {},
   "outputs": [],
   "source": [
    "from matplotlib import pyplot as plt\n",
    "import numpy as np\n",
    "%matplotlib inline"
   ]
  },
  {
   "cell_type": "code",
   "execution_count": 10,
   "id": "2d144bd1",
   "metadata": {},
   "outputs": [],
   "source": [
    "a_1d = np.array([2, 3, 5])\n",
    "b_1d = np.array([4, 6, 7])"
   ]
  },
  {
   "cell_type": "code",
   "execution_count": 11,
   "id": "3bc67675",
   "metadata": {},
   "outputs": [
    {
     "data": {
      "image/png": "[encoded data removed]",
      "text/plain": [
       "<Figure size 432x144 with 1 Axes>"
      ]
     },
     "metadata": {
      "needs_background": "light"
     },
     "output_type": "display_data"
    }
   ],
   "source": [
    "plt.figure(figsize=(6,2))\n",
    "plt.plot(a_1d, b_1d);"
   ]
  },
  {
   "cell_type": "code",
   "execution_count": 21,
   "id": "7157c86d",
   "metadata": {},
   "outputs": [],
   "source": [
    "plt.plot?"
   ]
  },
  {
   "cell_type": "code",
   "execution_count": 12,
   "id": "1e91b34f",
   "metadata": {},
   "outputs": [
    {
     "data": {
      "image/png": "[encoded data removed]",
      "text/plain": [
       "<Figure size 432x144 with 1 Axes>"
      ]
     },
     "metadata": {
      "needs_background": "light"
     },
     "output_type": "display_data"
    }
   ],
   "source": [
    "plt.figure(figsize=(6,2))\n",
    "plt.scatter(a_1d, b_1d)\n",
    "plt.xlim((0, 8));"
   ]
  },
  {
   "cell_type": "code",
   "execution_count": 13,
   "id": "f30eeb8a",
   "metadata": {},
   "outputs": [
    {
     "data": {
      "image/png": "[encoded data removed]",
      "text/plain": [
       "<Figure size 432x144 with 1 Axes>"
      ]
     },
     "metadata": {
      "needs_background": "light"
     },
     "output_type": "display_data"
    }
   ],
   "source": [
    "plt.figure(figsize=(6,2))\n",
    "plt.bar(a_1d, b_1d)\n",
    "plt.xlim((0, 6));"
   ]
  },
  {
   "cell_type": "code",
   "execution_count": 14,
   "id": "ed084780",
   "metadata": {},
   "outputs": [
    {
     "data": {
      "image/png": "[encoded data removed]",
      "text/plain": [
       "<Figure size 432x144 with 1 Axes>"
      ]
     },
     "metadata": {
      "needs_background": "light"
     },
     "output_type": "display_data"
    }
   ],
   "source": [
    "plt.figure(figsize=(6,2))\n",
    "plt.plot(a_1d, b_1d)\n",
    "plt.scatter(a_1d, b_1d, c='r')\n",
    "plt.bar(a_1d, b_1d, color='g')\n",
    "plt.xlim((0, 6));"
   ]
  },
  {
   "cell_type": "code",
   "execution_count": 15,
   "id": "f3dd04b1",
   "metadata": {},
   "outputs": [],
   "source": [
    "import random"
   ]
  },
  {
   "cell_type": "code",
   "execution_count": 16,
   "id": "fc9175ac",
   "metadata": {},
   "outputs": [],
   "source": [
    "random.seed(13)\n",
    "rand6_1000 = random.choices(range(6), weights=[0.1, 0.35, 0.05, 0.1, 0.05, 0.35], k=1000)"
   ]
  },
  {
   "cell_type": "code",
   "execution_count": 17,
   "id": "4a668520",
   "metadata": {},
   "outputs": [
    {
     "data": {
      "image/png": "[encoded data removed]",
      "text/plain": [
       "<Figure size 432x144 with 1 Axes>"
      ]
     },
     "metadata": {
      "needs_background": "light"
     },
     "output_type": "display_data"
    }
   ],
   "source": [
    "plt.figure(figsize=(6,2))\n",
    "plt.hist(rand6_1000, bins=np.arange(-0.5, 6)) # [-0.5, 0.5], [0.5, 1.5], ..., [4.5, 5.5] \n",
    "plt.xlim((-0.5, 6));"
   ]
  },
  {
   "cell_type": "code",
   "execution_count": 18,
   "id": "19c363a9",
   "metadata": {},
   "outputs": [],
   "source": [
    "np.random.seed(42)\n",
    "rand_gauss = np.random.normal(3, 0.7, 1000)"
   ]
  },
  {
   "cell_type": "code",
   "execution_count": 19,
   "id": "3f7ef068",
   "metadata": {},
   "outputs": [
    {
     "data": {
      "image/png": "[encoded data removed]",
      "text/plain": [
       "<Figure size 432x144 with 1 Axes>"
      ]
     },
     "metadata": {
      "needs_background": "light"
     },
     "output_type": "display_data"
    }
   ],
   "source": [
    "plt.figure(figsize=(6,2))\n",
    "plt.hist(rand_gauss)\n",
    "plt.xlim((0, 6));"
   ]
  },
  {
   "cell_type": "code",
   "execution_count": 20,
   "id": "db69cdf9",
   "metadata": {},
   "outputs": [
    {
     "data": {
      "image/png": "[encoded data removed]",
      "text/plain": [
       "<Figure size 432x144 with 1 Axes>"
      ]
     },
     "metadata": {
      "needs_background": "light"
     },
     "output_type": "display_data"
    }
   ],
   "source": [
    "x = np.linspace(0, 2*np.pi, 100)\n",
    "y_sin = np.sin(x)\n",
    "plt.figure(figsize=(6,2))\n",
    "plt.plot(x, y_sin);"
   ]
  },
  {
   "cell_type": "code",
   "execution_count": 21,
   "id": "5da280b8",
   "metadata": {},
   "outputs": [
    {
     "data": {
      "image/png": "[encoded data removed]",
      "text/plain": [
       "<Figure size 432x144 with 1 Axes>"
      ]
     },
     "metadata": {
      "needs_background": "light"
     },
     "output_type": "display_data"
    }
   ],
   "source": [
    "y_cos = np.cos(x)\n",
    "# Plot the points using matplotlib\n",
    "plt.figure(figsize=(6,2))\n",
    "plt.plot(x, y_sin)\n",
    "plt.plot(x, y_cos)\n",
    "plt.xlabel('My x axis label')\n",
    "plt.ylabel('My y axis label')\n",
    "plt.title('sin and cos from 0 to $2\\pi$')\n",
    "plt.legend(['Sine', 'Cosine']);"
   ]
  },
  {
   "cell_type": "code",
   "execution_count": 22,
   "id": "4e11962e",
   "metadata": {},
   "outputs": [
    {
     "data": {
      "image/png": "[encoded data removed]",
      "text/plain": [
       "<Figure size 576x288 with 2 Axes>"
      ]
     },
     "metadata": {
      "needs_background": "light"
     },
     "output_type": "display_data"
    }
   ],
   "source": [
    "# Let's plot a total of 2 figures: 1 column and 2 rows\n",
    "plt.figure(figsize=(8, 4))\n",
    "n_plots = 2\n",
    "n_cols = 1\n",
    "# Plot first figure\n",
    "plt.subplot(n_plots, n_cols, 1)\n",
    "plt.plot(x, y_cos)\n",
    "plt.ylabel('Cos values')\n",
    "plt.title('sin and cos from 0 to $2\\pi$')\n",
    "# Plot second figure\n",
    "plt.subplot(n_plots, n_cols, 2)\n",
    "plt.plot(x, y_sin)\n",
    "plt.xlabel('0 to 2 $\\pi$ values')\n",
    "plt.ylabel('Sin values')\n",
    "plt.tight_layout() # Magic command to optimize the overall plot display"
   ]
  },
  {
   "cell_type": "code",
   "execution_count": 23,
   "id": "66355d00",
   "metadata": {},
   "outputs": [
    {
     "data": {
      "image/png": "[encoded data removed]",
      "text/plain": [
       "<Figure size 432x288 with 2 Axes>"
      ]
     },
     "metadata": {
      "needs_background": "light"
     },
     "output_type": "display_data"
    }
   ],
   "source": [
    "a_2d = np.array([[2, 3, 5], \n",
    "                 [8, 12, 16], \n",
    "                 [18, 22, 26],\n",
    "                 [27, 31, 40]] )\n",
    "plt.imshow(a_2d)\n",
    "# Making sure x and y ticks are integers\n",
    "plt.xticks(np.arange(0, a_2d.shape[1]))\n",
    "plt.yticks(np.arange(0, a_2d.shape[0]))\n",
    "# Adding a colorbar\n",
    "plt.colorbar()\n",
    "plt.title('visualizing a_2d');"
   ]
  },
  {
   "cell_type": "code",
   "execution_count": 24,
   "id": "c050cdba",
   "metadata": {},
   "outputs": [],
   "source": [
    "import os"
   ]
  },
  {
   "cell_type": "code",
   "execution_count": 25,
   "id": "45abc69c",
   "metadata": {},
   "outputs": [],
   "source": [
    "home_data_path = os.path.expanduser('~') \n",
    "data_path = os.path.join(home_data_path, 'python_lecture', 'inflammation_data')\n",
    "first_file = os.path.join(data_path, 'inflammation-01.csv')"
   ]
  },
  {
   "cell_type": "code",
   "execution_count": 26,
   "id": "59567dd5",
   "metadata": {},
   "outputs": [
    {
     "ename": "FileNotFoundError",
     "evalue": "[Errno 2] No such file or directory: '/home/laurammodernell/python_lecture/inflammation_data/inflammation-01.csv'",
     "output_type": "error",
     "traceback": [
      "\u001b[0;31m---------------------------------------------------------------------------\u001b[0m",
      "\u001b[0;31mFileNotFoundError\u001b[0m                         Traceback (most recent call last)",
      "\u001b[0;32m/tmp/ipykernel_11520/2942911975.py\u001b[0m in \u001b[0;36m<module>\u001b[0;34m\u001b[0m\n\u001b[0;32m----> 1\u001b[0;31m \u001b[0mfile_handler\u001b[0m \u001b[0;34m=\u001b[0m \u001b[0mopen\u001b[0m\u001b[0;34m(\u001b[0m\u001b[0mfirst_file\u001b[0m\u001b[0;34m,\u001b[0m \u001b[0;34m'r'\u001b[0m\u001b[0;34m)\u001b[0m\u001b[0;34m\u001b[0m\u001b[0;34m\u001b[0m\u001b[0m\n\u001b[0m",
      "\u001b[0;31mFileNotFoundError\u001b[0m: [Errno 2] No such file or directory: '/home/laurammodernell/python_lecture/inflammation_data/inflammation-01.csv'"
     ]
    }
   ],
   "source": [
    "file_handler = open(first_file, 'r')"
   ]
  },
  {
   "cell_type": "code",
   "execution_count": 27,
   "id": "faf3f120",
   "metadata": {},
   "outputs": [
    {
     "ename": "FileNotFoundError",
     "evalue": "[Errno 2] No such file or directory: '/home/laurammodernell/python_lecture/inflammation_data/inflammation-01.csv'",
     "output_type": "error",
     "traceback": [
      "\u001b[0;31m---------------------------------------------------------------------------\u001b[0m",
      "\u001b[0;31mFileNotFoundError\u001b[0m                         Traceback (most recent call last)",
      "\u001b[0;32m/tmp/ipykernel_11520/2264492725.py\u001b[0m in \u001b[0;36m<module>\u001b[0;34m\u001b[0m\n\u001b[0;32m----> 1\u001b[0;31m \u001b[0;32mwith\u001b[0m \u001b[0mopen\u001b[0m\u001b[0;34m(\u001b[0m\u001b[0mfirst_file\u001b[0m\u001b[0;34m,\u001b[0m \u001b[0;34m'r'\u001b[0m\u001b[0;34m)\u001b[0m \u001b[0;32mas\u001b[0m \u001b[0mfile_handler\u001b[0m\u001b[0;34m:\u001b[0m\u001b[0;34m\u001b[0m\u001b[0;34m\u001b[0m\u001b[0m\n\u001b[0m\u001b[1;32m      2\u001b[0m     \u001b[0mfile_content\u001b[0m \u001b[0;34m=\u001b[0m \u001b[0mfile_handler\u001b[0m\u001b[0;34m.\u001b[0m\u001b[0mread\u001b[0m\u001b[0;34m(\u001b[0m\u001b[0;34m)\u001b[0m\u001b[0;34m\u001b[0m\u001b[0;34m\u001b[0m\u001b[0m\n",
      "\u001b[0;31mFileNotFoundError\u001b[0m: [Errno 2] No such file or directory: '/home/laurammodernell/python_lecture/inflammation_data/inflammation-01.csv'"
     ]
    }
   ],
   "source": [
    "with open(first_file, 'r') as file_handler:\n",
    "    file_content = file_handler.read()"
   ]
  },
  {
   "cell_type": "code",
   "execution_count": null,
   "id": "5c1765de",
   "metadata": {},
   "outputs": [],
   "source": []
  },
  {
   "cell_type": "code",
   "execution_count": null,
   "id": "41be8d45",
   "metadata": {},
   "outputs": [],
   "source": []
  },
  {
   "cell_type": "code",
   "execution_count": null,
   "id": "7791ee93",
   "metadata": {},
   "outputs": [],
   "source": []
  },
  {
   "cell_type": "code",
   "execution_count": null,
   "id": "59f1c1ae",
   "metadata": {},
   "outputs": [],
   "source": []
  },
  {
   "cell_type": "code",
   "execution_count": null,
   "id": "5426bc19",
   "metadata": {},
   "outputs": [],
   "source": []
  },
  {
   "cell_type": "code",
   "execution_count": null,
   "id": "2d896875",
   "metadata": {},
   "outputs": [],
   "source": []
  }
 ],
 "metadata": {
  "kernelspec": {
   "display_name": "Python [conda env:ds38]",
   "language": "python",
   "name": "conda-env-ds38-py"
  },
  "language_info": {
   "codemirror_mode": {
    "name": "ipython",
    "version": 3
   },
   "file_extension": ".py",
   "mimetype": "text/x-python",
   "name": "python",
   "nbconvert_exporter": "python",
   "pygments_lexer": "ipython3",
   "version": "3.8.12"
  }
 },
 "nbformat": 4,
 "nbformat_minor": 5
}
