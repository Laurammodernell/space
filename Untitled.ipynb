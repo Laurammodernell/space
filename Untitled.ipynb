{
 "cells": [
  {
   "cell_type": "code",
   "execution_count": 1,
   "id": "4259799c",
   "metadata": {},
   "outputs": [
    {
     "name": "stdout",
     "output_type": "stream",
     "text": [
      "['Mark Vande Hei', 'Pyotr Dubrov', 'Anton Shkaplerov', 'Zhai Zhigang', 'Wang Yaping', 'Ye Guangfu', 'Raja Chari', 'Tom Marshburn', 'Kayla Barron', 'Matthias Maurer', 'Alexander Misurkin', 'Yusaku Maezawa', 'Yozo Hirano']\n"
     ]
    }
   ],
   "source": [
    "# Jupyter notebook CELL 1 for exercise\n",
    "import requests\n",
    "from typing import List\n",
    "# Get the names of astronauts on board the ISS \n",
    "astros_json = requests.get('http://api.open-notify.org/astros.json').json()\n",
    "astro_names = []\n",
    "for astro_info in astros_json['people']:\n",
    "    astro_names.append(astro_info['name'])\n",
    "# Note: equivalent to astro_names = [astro_info['name'] for astro_info in astros_json['people']]\n",
    "print(astro_names)"
   ]
  },
  {
   "cell_type": "code",
   "execution_count": 2,
   "id": "756a28ad",
   "metadata": {},
   "outputs": [
    {
     "name": "stdout",
     "output_type": "stream",
     "text": [
      "At 19-Dec-2021 17:31:54, the ISS was above Monrovia in Liberia\n",
      "At 19-Dec-2021 17:32:00, the ISS was above Cestos City in Liberia\n",
      "At 19-Dec-2021 17:32:05, the ISS was above Cestos City in Liberia\n"
     ]
    }
   ],
   "source": [
    "# Jupyter notebook CELL 2 for exercise\n",
    "import time\n",
    "from datetime import datetime\n",
    "import reverse_geocode\n",
    "\n",
    "n_trials = 3\n",
    "trial_pause_seconds = 5.0\n",
    "for i_trial in range(n_trials):\n",
    "    # Get date and time\n",
    "    date_time_now = datetime.now()\n",
    "    time_str = date_time_now.strftime(\"%d-%b-%Y %H:%M:%S\")\n",
    "    # ISS position\n",
    "    issnow_json = requests.get('http://api.open-notify.org/iss-now.json').json()\n",
    "    if issnow_json['message']  == 'success':\n",
    "        iss_latlong = (issnow_json['iss_position']['latitude'], \n",
    "                       issnow_json['iss_position']['longitude'])\n",
    "        # The search method expects a list and returns a list.\n",
    "        # Hence we need to coerce a single value latlong to a list with [latlong]\n",
    "        # Afterwards we need to extract the result, itself a single-item list, with result_list[0]\n",
    "        iss_pos_list = reverse_geocode.search([iss_latlong])\n",
    "        iss_pos = iss_pos_list[0]\n",
    "        iss_info = f'At {time_str}, the ISS was above {iss_pos[\"city\"]} in {iss_pos[\"country\"]}'\n",
    "        print(iss_info)\n",
    "        time.sleep(trial_pause_seconds)"
   ]
  },
  {
   "cell_type": "code",
   "execution_count": 3,
   "id": "1df052b5",
   "metadata": {},
   "outputs": [],
   "source": [
    "import sys"
   ]
  },
  {
   "cell_type": "code",
   "execution_count": 4,
   "id": "41ccebdc",
   "metadata": {},
   "outputs": [],
   "source": [
    "sys.path.append(\"/home/laurammodernell/IORDS/python-lectures/space/\")"
   ]
  },
  {
   "cell_type": "code",
   "execution_count": 5,
   "id": "e0384b92",
   "metadata": {},
   "outputs": [],
   "source": [
    "import iss"
   ]
  },
  {
   "cell_type": "code",
   "execution_count": 6,
   "id": "929fa14b",
   "metadata": {},
   "outputs": [
    {
     "data": {
      "text/plain": [
       "['Mark Vande Hei',\n",
       " 'Pyotr Dubrov',\n",
       " 'Anton Shkaplerov',\n",
       " 'Zhai Zhigang',\n",
       " 'Wang Yaping',\n",
       " 'Ye Guangfu',\n",
       " 'Raja Chari',\n",
       " 'Tom Marshburn',\n",
       " 'Kayla Barron',\n",
       " 'Matthias Maurer',\n",
       " 'Alexander Misurkin',\n",
       " 'Yusaku Maezawa',\n",
       " 'Yozo Hirano']"
      ]
     },
     "execution_count": 6,
     "metadata": {},
     "output_type": "execute_result"
    }
   ],
   "source": [
    "iss.get_astro_names()"
   ]
  },
  {
   "cell_type": "code",
   "execution_count": 13,
   "id": "34954338",
   "metadata": {},
   "outputs": [
    {
     "data": {
      "text/plain": [
       "['At 19-Dec-2021 17:46:23, the ISS was above Jeffrey’s Bay in South Africa',\n",
       " 'At 19-Dec-2021 17:46:25, the ISS was above Jeffrey’s Bay in South Africa',\n",
       " 'At 19-Dec-2021 17:46:28, the ISS was above Jeffrey’s Bay in South Africa',\n",
       " 'At 19-Dec-2021 17:46:30, the ISS was above Jeffrey’s Bay in South Africa',\n",
       " 'At 19-Dec-2021 17:46:33, the ISS was above Jeffrey’s Bay in South Africa',\n",
       " 'At 19-Dec-2021 17:46:35, the ISS was above Jeffrey’s Bay in South Africa',\n",
       " 'At 19-Dec-2021 17:46:38, the ISS was above Jeffrey’s Bay in South Africa',\n",
       " 'At 19-Dec-2021 17:46:40, the ISS was above Jeffrey’s Bay in South Africa',\n",
       " 'At 19-Dec-2021 17:46:42, the ISS was above Jeffrey’s Bay in South Africa',\n",
       " 'At 19-Dec-2021 17:46:45, the ISS was above Port Elizabeth in South Africa']"
      ]
     },
     "execution_count": 13,
     "metadata": {},
     "output_type": "execute_result"
    }
   ],
   "source": [
    "iss.get_iss_positions(10, 2)"
   ]
  }
 ],
 "metadata": {
  "kernelspec": {
   "display_name": "Python [conda env:ds38]",
   "language": "python",
   "name": "conda-env-ds38-py"
  },
  "language_info": {
   "codemirror_mode": {
    "name": "ipython",
    "version": 3
   },
   "file_extension": ".py",
   "mimetype": "text/x-python",
   "name": "python",
   "nbconvert_exporter": "python",
   "pygments_lexer": "ipython3",
   "version": "3.8.12"
  }
 },
 "nbformat": 4,
 "nbformat_minor": 5
}
